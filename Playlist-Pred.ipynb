{
 "cells": [
  {
   "cell_type": "code",
   "id": "30ff3d9fbab0253d",
   "metadata": {
    "ExecuteTime": {
     "end_time": "2024-12-03T21:50:51.445989Z",
     "start_time": "2024-12-03T21:50:51.442486Z"
    }
   },
   "source": [
    "import pandas as pd\n",
    "import numpy as np\n",
    "from sklearn.ensemble import RandomForestClassifier\n",
    "from sklearn.preprocessing import MinMaxScaler, LabelEncoder\n",
    "from sklearn.model_selection import train_test_split\n",
    "from sklearn.metrics import classification_report, accuracy_score\n",
    "import spotipy\n",
    "from spotipy.oauth2 import SpotifyOAuth\n",
    "import joblib"
   ],
   "outputs": [],
   "execution_count": 20
  },
  {
   "cell_type": "code",
   "id": "e1633ab001de0be0",
   "metadata": {
    "ExecuteTime": {
     "end_time": "2024-12-03T21:50:51.851738Z",
     "start_time": "2024-12-03T21:50:51.847966Z"
    }
   },
   "source": [
    "# Configurar autenticación de Spotify\n",
    "sp = spotipy.Spotify(auth_manager=SpotifyOAuth(\n",
    "    client_id=\"c15dae568e384c639214780a32252f2a\",       # Reemplaza con tu Client ID\n",
    "    client_secret=\"a05c91e95775407e8a18d34d76b0e73f\",  # Reemplaza con tu Client Secret\n",
    "    redirect_uri=\"http://localhost:9443/callback\",  # URL de redirección configurada\n",
    "    scope=\"playlist-modify-public\"\n",
    "))"
   ],
   "outputs": [],
   "execution_count": 21
  },
  {
   "cell_type": "code",
   "id": "f1a96a497475776b",
   "metadata": {
    "ExecuteTime": {
     "end_time": "2024-12-03T21:50:53.360663Z",
     "start_time": "2024-12-03T21:50:52.218537Z"
    }
   },
   "source": [
    "#cargar modelo \n",
    "model = joblib.load('backend/models/playlist-model/playlist_model.joblib')\n",
    "\n",
    "# Cargar librería de canciones\n",
    "songs_library = pd.read_csv('backend/data/songs_library.csv')\n",
    "label_encoder = joblib.load('backend/models/playlist-model/label_encoder.joblib')\n",
    "scaler = joblib.load('backend/models/playlist-model/scaler.joblib')\n",
    "numerical_features = ['popularity', 'danceability', 'energy', 'valence']\n",
    "selected_columns = ['track_name', 'artists', 'popularity', 'explicit', 'danceability', 'energy', 'valence', 'track_genre']\n",
    "# Preprocesar librería\n",
    "songs_library = songs_library[selected_columns]\n",
    "songs_library = songs_library.dropna()\n",
    "songs_library['track_genre'] = label_encoder.transform(songs_library['track_genre'])\n",
    "songs_library[numerical_features] = scaler.transform(songs_library[numerical_features])\n",
    "\n",
    "# Predecir estados de ánimo\n",
    "songs_library['mood'] = model.predict(songs_library[numerical_features + ['track_genre']])\n",
    "\n",
    "# Crear playlist en Spotify\n",
    "def add_songs_to_spotify_playlist(sp, playlist_data, user_mood):\n",
    "    user_id = sp.me()[\"id\"]\n",
    "    playlist_name = f\"Playlist de {user_mood}\"\n",
    "    spotify_playlist = sp.user_playlist_create(user=user_id, name=playlist_name, public=True)\n",
    "    track_uris = []\n",
    "\n",
    "    for _, row in playlist_data.iterrows():\n",
    "        query = f\"{row['track_name']} {row['artists']}\"\n",
    "        search_result = sp.search(q=query, type=\"track\", limit=1)\n",
    "        if search_result['tracks']['items']:\n",
    "            track_uri = search_result['tracks']['items'][0]['uri']\n",
    "            track_uris.append(track_uri)\n",
    "\n",
    "    if track_uris:\n",
    "        sp.playlist_add_items(spotify_playlist[\"id\"], track_uris)\n",
    "        print(f\"Playlist '{playlist_name}' creada exitosamente con {len(track_uris)} canciones.\")\n",
    "    else:\n",
    "        print(\"No se encontraron canciones válidas para agregar a la playlist.\")\n"
   ],
   "outputs": [],
   "execution_count": 22
  },
  {
   "cell_type": "code",
   "execution_count": 19,
   "id": "b845b32584a50164",
   "metadata": {
    "ExecuteTime": {
     "end_time": "2024-12-03T21:11:08.948768Z",
     "start_time": "2024-12-03T21:10:45.782454Z"
    }
   },
   "outputs": [
    {
     "name": "stdout",
     "output_type": "stream",
     "text": [
      "\n",
      "Opciones de sentimientos disponibles: ['Otro' 'Melancolía' 'Alegría' 'Tristeza' 'Relajación' 'Euforia' 'Fiesta']\n",
      "\n",
      "Creando la playlist en Spotify...\n",
      "Playlist 'Playlist de Alegría' creada exitosamente con 50 canciones.\n"
     ]
    }
   ],
   "source": [
    "# Interacción con el usuario\n",
    "print(\"\\nOpciones de sentimientos disponibles:\", songs_library['mood'].unique())\n",
    "user_mood = input(\"Introduce el sentimiento para tu playlist (e.g., Alegría, Tristeza): \")\n",
    "max_songs=50\n",
    "# Generar playlist\n",
    "playlist = songs_library[songs_library['mood'] == user_mood].sort_values(by='popularity', ascending=False).drop_duplicates(subset=['track_name', 'artists']).head(max_songs)\n",
    "\n",
    "# Crear playlist en Spotify\n",
    "if not playlist.empty:\n",
    "    print(\"\\nCreando la playlist en Spotify...\")\n",
    "    add_songs_to_spotify_playlist(sp, playlist, user_mood)\n",
    "else:\n",
    "    print(f\"No se encontraron canciones para el sentimiento: {user_mood}\")"
   ]
  },
  {
   "cell_type": "code",
   "execution_count": null,
   "id": "b7ee238675672149",
   "metadata": {},
   "outputs": [],
   "source": []
  }
 ],
 "metadata": {
  "kernelspec": {
   "display_name": "Python 3 (ipykernel)",
   "language": "python",
   "name": "python3"
  },
  "language_info": {
   "codemirror_mode": {
    "name": "ipython",
    "version": 3
   },
   "file_extension": ".py",
   "mimetype": "text/x-python",
   "name": "python",
   "nbconvert_exporter": "python",
   "pygments_lexer": "ipython3",
   "version": "3.9.20"
  }
 },
 "nbformat": 4,
 "nbformat_minor": 5
}
