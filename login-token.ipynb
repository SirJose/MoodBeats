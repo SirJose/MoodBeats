{
 "cells": [
  {
   "cell_type": "code",
   "id": "initial_id",
   "metadata": {
    "collapsed": true,
    "ExecuteTime": {
     "end_time": "2024-12-04T23:14:34.746772Z",
     "start_time": "2024-12-04T23:14:34.739783Z"
    }
   },
   "source": [
    "import json\n",
    "from spotipy.oauth2 import SpotifyOAuth\n",
    "\n",
    "# Configuración de Spotify\n",
    "SPOTIFY_CLIENT_ID = \"c15dae568e384c639214780a32252f2a\"\n",
    "SPOTIFY_CLIENT_SECRET = \"a05c91e95775407e8a18d34d76b0e73f\"\n",
    "SPOTIFY_REDIRECT_URI = \"http://localhost:30001/callback\"\n",
    "\n",
    "# Configuración del alcance\n",
    "scope = \"playlist-modify-public\"\n",
    "\n",
    "# Manejo de autenticación\n",
    "sp_oauth = SpotifyOAuth(\n",
    "    client_id=SPOTIFY_CLIENT_ID,\n",
    "    client_secret=SPOTIFY_CLIENT_SECRET,\n",
    "    redirect_uri=SPOTIFY_REDIRECT_URI,\n",
    "    scope=scope\n",
    ")\n",
    "\n",
    "# Generar URL de autenticación\n",
    "auth_url = sp_oauth.get_authorize_url()\n",
    "print(f\"Por favor, ve a esta URL para autenticarte: {auth_url}\")\n"
   ],
   "outputs": [
    {
     "name": "stdout",
     "output_type": "stream",
     "text": [
      "Por favor, ve a esta URL para autenticarte: https://accounts.spotify.com/authorize?client_id=c15dae568e384c639214780a32252f2a&response_type=code&redirect_uri=http%3A%2F%2Flocalhost%3A30001%2Fcallback&scope=playlist-modify-public\n"
     ]
    }
   ],
   "execution_count": 28
  },
  {
   "metadata": {
    "ExecuteTime": {
     "end_time": "2024-12-04T23:14:35.710337Z",
     "start_time": "2024-12-04T23:14:35.406778Z"
    }
   },
   "cell_type": "code",
   "source": [
    "# Obtener el código de respuesta\n",
    "#response_code = input(\"Introduce el código de la URL después de autenticación: \")\n",
    "\n",
    "# Obtener y guardar los tokens\n",
    "token_info = sp_oauth.get_access_token(response_code)\n",
    "with open(\"tokens.json\", \"w\") as token_file:\n",
    "    json.dump(token_info, token_file)\n",
    "\n",
    "print(\"Tokens guardados exitosamente en tokens.json\")"
   ],
   "id": "f75a6b0ed2c478cb",
   "outputs": [
    {
     "name": "stderr",
     "output_type": "stream",
     "text": [
      "/var/folders/_p/z0kztt_s1l9bj1nf8lgxgw240000gn/T/ipykernel_14015/3349389511.py:5: DeprecationWarning: You're using 'as_dict = True'.get_access_token will return the token string directly in future versions. Please adjust your code accordingly, or use get_cached_token instead.\n",
      "  token_info = sp_oauth.get_access_token(response_code)\n"
     ]
    },
    {
     "name": "stdout",
     "output_type": "stream",
     "text": [
      "Tokens guardados exitosamente en tokens.json\n"
     ]
    }
   ],
   "execution_count": 29
  },
  {
   "metadata": {},
   "cell_type": "code",
   "outputs": [],
   "execution_count": null,
   "source": "",
   "id": "bbb4e34e05f58018"
  }
 ],
 "metadata": {
  "kernelspec": {
   "display_name": "Python 3",
   "language": "python",
   "name": "python3"
  },
  "language_info": {
   "codemirror_mode": {
    "name": "ipython",
    "version": 2
   },
   "file_extension": ".py",
   "mimetype": "text/x-python",
   "name": "python",
   "nbconvert_exporter": "python",
   "pygments_lexer": "ipython2",
   "version": "2.7.6"
  }
 },
 "nbformat": 4,
 "nbformat_minor": 5
}
