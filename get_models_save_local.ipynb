{
 "cells": [
  {
   "metadata": {
    "ExecuteTime": {
     "end_time": "2024-12-03T18:12:42.117640Z",
     "start_time": "2024-12-03T18:12:42.098077Z"
    }
   },
   "cell_type": "code",
   "source": [
    "import mlflow\n",
    "import joblib\n",
    "\n",
    "def load_model_mlflow_and_save_as_joblib(model_name, joblib_path, tracking_uri):\n",
    "    \"\"\"\n",
    "    Carga el modelo asociado a un alias personalizado del Model Registry de MLflow\n",
    "    y lo guarda localmente como archivo Joblib.\n",
    "\n",
    "    Args:\n",
    "        model_name (str): Nombre del modelo en el Model Registry de MLflow.\n",
    "        alias (str): Alias asociado al modelo (e.g., \"champion\").\n",
    "        joblib_path (str): Ruta del archivo Joblib donde guardar el modelo (e.g., \"./champion_model.joblib\").\n",
    "        tracking_uri (str): URI del servidor remoto de MLflow.\n",
    "\n",
    "    Returns:\n",
    "        str: Ruta local donde se guardó el modelo en formato Joblib.\n",
    "    \"\"\"\n",
    "    # Configurar la URI del servidor remoto\n",
    "    mlflow.set_tracking_uri(tracking_uri)\n",
    "    client = MlflowClient()\n",
    "    alias= \"champion\"\n",
    "\n",
    "    # Resolver el alias al número de versión\n",
    "    try:\n",
    "        model_version = client.get_model_version_by_alias(model_name, alias)\n",
    "        resolved_version = model_version.version\n",
    "        print(f\"Alias '{alias}' resuelto a la versión: {resolved_version}\")\n",
    "    except Exception as e:\n",
    "        raise ValueError(f\"No se pudo resolver el alias '{alias}' para el modelo '{model_name}'. Error: {str(e)}\")\n",
    "\n",
    "    # Construir la URI del modelo\n",
    "    model_uri = f\"models:/{model_name}/{resolved_version}\"\n",
    "    print(f\"Cargando modelo desde el Model Registry: {model_uri}\")\n",
    "\n",
    "    # Cargar el modelo desde MLflow\n",
    "    model = mlflow.pyfunc.load_model(model_uri)\n",
    "\n",
    "    # Extraer el modelo subyacente\n",
    "    native_model = model._model_impl  # Acceso al modelo subyacente\n",
    "\n",
    "    # Guardar el modelo como archivo Joblib\n",
    "    joblib.dump(native_model, joblib_path)\n",
    "    print(f\"Modelo asociado al alias '{alias}' guardado localmente como Joblib en: {joblib_path}\")\n",
    "\n",
    "    return joblib_path\n",
    "\n",
    "\n"
   ],
   "id": "1879214dd79c3d27",
   "outputs": [],
   "execution_count": 10
  },
  {
   "metadata": {
    "ExecuteTime": {
     "end_time": "2024-12-03T21:04:27.687909Z",
     "start_time": "2024-12-03T21:04:27.523305Z"
    }
   },
   "cell_type": "code",
   "source": [
    "# URI del modelo en MLflow\n",
    "model_name = \"Mood-Based Playlist Model\"  # Reemplaza con el nombre del modelo en el registro\n",
    "joblib_path = \"backend/models/playlist-model/playlist_model.joblib\"  # Ruta donde guardar el modelo como Joblib\n",
    "tracking_uri = \"http://localhost:5001\"\n",
    "# Cargar el modelo Champion y guardarlo\n",
    "saved_path = load_model_mlflow_and_save_as_joblib(model_name, joblib_path, tracking_uri)\n",
    "print(f\"Modelo Champion disponible en: {saved_path}\")\n"
   ],
   "id": "ab5f451194a602f",
   "outputs": [
    {
     "name": "stdout",
     "output_type": "stream",
     "text": [
      "Alias 'champion' resuelto a la versión: 2\n",
      "Cargando modelo desde el Model Registry: models:/Mood-Based Playlist Model/2\n",
      "Modelo asociado al alias 'champion' guardado localmente como Joblib en: models/playlist-model/playlist_model.joblib\n",
      "Modelo Champion disponible en: models/playlist-model/playlist_model.joblib\n"
     ]
    }
   ],
   "execution_count": 12
  },
  {
   "metadata": {
    "ExecuteTime": {
     "end_time": "2024-12-03T21:05:17.648461Z",
     "start_time": "2024-12-03T21:05:17.526118Z"
    }
   },
   "cell_type": "code",
   "source": [
    "# URI del modelo en MLflow\n",
    "model_name = \"Sentiment Analysis Model\"  # Reemplaza con el nombre del modelo en el registro\n",
    "joblib_path = \"backend/models/sentiment_model/mood_model.joblib\"  # Ruta donde guardar el modelo como Joblib\n",
    "tracking_uri = \"http://localhost:5001\"\n",
    "# Cargar el modelo Champion y guardarlo\n",
    "saved_path = load_model_mlflow_and_save_as_joblib(model_name, joblib_path, tracking_uri)\n",
    "print(f\"Modelo Champion disponible en: {saved_path}\")\n"
   ],
   "id": "21c1da5e82995e54",
   "outputs": [
    {
     "name": "stdout",
     "output_type": "stream",
     "text": [
      "Alias 'champion' resuelto a la versión: 1\n",
      "Cargando modelo desde el Model Registry: models:/Sentiment Analysis Model/1\n",
      "Modelo asociado al alias 'champion' guardado localmente como Joblib en: models/sentiment_model/mood_model.joblib\n",
      "Modelo Champion disponible en: models/sentiment_model/mood_model.joblib\n"
     ]
    }
   ],
   "execution_count": 14
  },
  {
   "metadata": {},
   "cell_type": "code",
   "outputs": [],
   "execution_count": null,
   "source": "",
   "id": "c78ae8627a8fc267"
  }
 ],
 "metadata": {
  "kernelspec": {
   "display_name": "Python 3",
   "language": "python",
   "name": "python3"
  },
  "language_info": {
   "codemirror_mode": {
    "name": "ipython",
    "version": 2
   },
   "file_extension": ".py",
   "mimetype": "text/x-python",
   "name": "python",
   "nbconvert_exporter": "python",
   "pygments_lexer": "ipython2",
   "version": "2.7.6"
  }
 },
 "nbformat": 4,
 "nbformat_minor": 5
}
