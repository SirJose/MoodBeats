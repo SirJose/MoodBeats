{
 "cells": [
  {
   "cell_type": "code",
   "id": "initial_id",
   "metadata": {
    "collapsed": true,
    "ExecuteTime": {
     "end_time": "2024-12-04T02:40:22.051300Z",
     "start_time": "2024-12-04T02:39:37.564404Z"
    }
   },
   "source": [
    "import os\n",
    "from transformers import pipeline\n",
    "from deep_translator import GoogleTranslator\n",
    "import joblib\n",
    "import spotipy\n",
    "from spotipy.oauth2 import SpotifyOAuth\n",
    "import pandas as pd\n",
    "import torch\n",
    "from transformers import DistilBertTokenizer, DistilBertModel\n",
    "from sklearn.linear_model import LogisticRegression\n",
    "from sklearn.preprocessing import LabelEncoder, MinMaxScaler\n",
    "import re\n",
    "\n",
    "# Función para procesar texto\n",
    "def preprocess_text(text):\n",
    "    text = text.lower()\n",
    "    text = re.sub(r'http\\S+|www.\\S+', '', text)\n",
    "    text = re.sub(r'[^a-z\\s]', '', text)\n",
    "    tokens = text.split()\n",
    "    tokens = [word for word in tokens if len(word) > 2]\n",
    "    return ' '.join(tokens)\n",
    "\n",
    "# Configurar autenticación de Spotify\n",
    "sp = spotipy.Spotify(auth_manager=SpotifyOAuth(\n",
    "    client_id=\"c15dae568e384c639214780a32252f2a\",       # Reemplaza con tu Client ID\n",
    "    client_secret=\"a05c91e95775407e8a18d34d76b0e73f\",  # Reemplaza con tu Client Secret\n",
    "    redirect_uri=\"http://localhost:9443/callback\",  # URL de redirección configurada\n",
    "    scope=\"playlist-modify-public\"\n",
    "))\n",
    "\n",
    "# Cargar recursos\n",
    "songs_library = pd.read_csv('backend/data/songs_library.csv')\n",
    "label_encoder = joblib.load('backend/models/playlist-model/label_encoder.joblib')\n",
    "scaler = joblib.load('backend/models/playlist-model/scaler.joblib')\n",
    "playlist_model = joblib.load('backend/models/playlist-model/playlist_model.joblib')\n",
    "selected_columns = ['track_name', 'artists', 'popularity', 'explicit', 'danceability', 'energy', 'valence', 'track_genre']\n",
    "numerical_features = ['popularity', 'danceability', 'energy', 'valence']\n",
    "songs_library= songs_library[selected_columns]\n",
    "\n",
    "\n",
    "\n",
    "# Procesar canciones\n",
    "songs_library['track_genre'] = label_encoder.transform(songs_library['track_genre'])\n",
    "songs_library[numerical_features] = scaler.transform(songs_library[numerical_features])\n",
    "songs_library['mood'] = playlist_model.predict(songs_library[numerical_features + ['track_genre']])\n",
    "\n",
    "# Diccionario para traducir emociones del modelo pre-entrenado al español\n",
    "emotion_translation = {\n",
    "    \"joy\": \"Alegría\",\n",
    "    \"anger\": \"Enojo\",\n",
    "    \"sadness\": \"Tristeza\",\n",
    "    \"fear\": \"Miedo\",\n",
    "    \"surprise\": \"Sorpresa\",\n",
    "    \"love\": \"Amor\",\n",
    "    \"neutral\": \"Neutral\"\n",
    "}\n",
    "# Menú principal\n",
    "print(\"Introduce el texto para analizar la emoción:\")\n",
    "text = input(\"Introduce como te sientes hoy: \")\n",
    "\n",
    "print(\"\\nSelecciona el modelo a usar para detección de emociones:\")\n",
    "print(\"1. Modelo pre-entrenado\")\n",
    "print(\"2. Modelo propio\")\n",
    "choice = input(\"Modelo Pre-enterenado: 1 o  Modelo Propio: 2 \")\n",
    "\n",
    "if choice == \"1\":\n",
    "    translator = GoogleTranslator(source='es', target='en')\n",
    "    emotion_pipeline = pipeline(\"text-classification\", model=\"j-hartmann/emotion-english-distilroberta-base\")\n",
    "    text_en = translator.translate(text)\n",
    "    emotion_result = emotion_pipeline([text_en])[0]\n",
    "    emotion_en = emotion_result['label']\n",
    "    emotion_es = emotion_translation.get(emotion_en, \"otro\")\n",
    "    print(f\"Emoción detectada: {emotion_es} (Confianza: {emotion_result['score']:.2f})\")\n",
    "else:\n",
    "    tokenizer = DistilBertTokenizer.from_pretrained('distilbert-base-uncased')\n",
    "    bert_model = DistilBertModel.from_pretrained('distilbert-base-uncased')\n",
    "    classifier = joblib.load('backend/models/sentiment_model/mood_model.joblib')\n",
    "    text_processed = preprocess_text(text)\n",
    "    encoded_input = tokenizer(text_processed, return_tensors='pt', padding='max_length', truncation=True, max_length=128)\n",
    "    with torch.no_grad():\n",
    "        bert_embeddings = bert_model(**encoded_input).last_hidden_state[:, 0, :].squeeze().numpy()\n",
    "    emotion_es = classifier.predict([bert_embeddings])[0]\n",
    "    print(f\"Emoción detectada: {emotion_es}\")\n",
    "\n",
    "# Crear playlist\n",
    "print(\"\\nCreando playlist en Spotify...\")\n",
    "playlist_data = songs_library[songs_library['mood'] == emotion_es].sort_values(by='popularity', ascending=False).drop_duplicates(subset=['track_name', 'artists']).head(50)\n",
    "user_id = sp.me()[\"id\"]\n",
    "playlist_name = f\"Playlist de {emotion_es}\"\n",
    "spotify_playlist = sp.user_playlist_create(user=user_id, name=playlist_name, public=True)\n",
    "track_uris = []\n",
    "\n",
    "for _, row in playlist_data.iterrows():\n",
    "    query = f\"{row['track_name']} {row['artists']}\"\n",
    "    search_result = sp.search(q=query, type=\"track\", limit=1)\n",
    "    if search_result['tracks']['items']:\n",
    "        track_uri = search_result['tracks']['items'][0]['uri']\n",
    "        track_uris.append(track_uri)\n",
    "\n",
    "if track_uris:\n",
    "    sp.playlist_add_items(spotify_playlist[\"id\"], track_uris)\n",
    "    print(f\"Playlist '{playlist_name}' creada exitosamente con {len(track_uris)} canciones.\")\n",
    "else:\n",
    "    print(f\"No se encontraron canciones para el sentimiento: {emotion_es}\")\n"
   ],
   "outputs": [
    {
     "name": "stdout",
     "output_type": "stream",
     "text": [
      "Introduce el texto para analizar la emoción:\n",
      "\n",
      "Selecciona el modelo a usar para detección de emociones:\n",
      "1. Modelo pre-entrenado\n",
      "2. Modelo propio\n"
     ]
    },
    {
     "name": "stderr",
     "output_type": "stream",
     "text": [
      "Hardware accelerator e.g. GPU is available in the environment, but no `device` argument is passed to the `Pipeline` object. Model will be on CPU.\n"
     ]
    },
    {
     "name": "stdout",
     "output_type": "stream",
     "text": [
      "Emoción detectada: Alegría (Confianza: 0.56)\n",
      "\n",
      "Creando playlist en Spotify...\n",
      "Playlist 'Playlist de Alegría' creada exitosamente con 50 canciones.\n"
     ]
    }
   ],
   "execution_count": 13
  },
  {
   "metadata": {},
   "cell_type": "code",
   "outputs": [],
   "execution_count": null,
   "source": "",
   "id": "3a12b2fe198abe2"
  }
 ],
 "metadata": {
  "kernelspec": {
   "display_name": "Python 3",
   "language": "python",
   "name": "python3"
  },
  "language_info": {
   "codemirror_mode": {
    "name": "ipython",
    "version": 2
   },
   "file_extension": ".py",
   "mimetype": "text/x-python",
   "name": "python",
   "nbconvert_exporter": "python",
   "pygments_lexer": "ipython2",
   "version": "2.7.6"
  }
 },
 "nbformat": 4,
 "nbformat_minor": 5
}
