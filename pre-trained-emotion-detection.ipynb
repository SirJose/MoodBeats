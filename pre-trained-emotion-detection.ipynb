{
 "cells": [
  {
   "cell_type": "code",
   "execution_count": 2,
   "id": "initial_id",
   "metadata": {
    "ExecuteTime": {
     "end_time": "2024-12-03T15:24:00.593291Z",
     "start_time": "2024-12-03T15:23:09.992400Z"
    },
    "collapsed": true,
    "jupyter": {
     "outputs_hidden": true
    }
   },
   "outputs": [
    {
     "data": {
      "application/vnd.jupyter.widget-view+json": {
       "model_id": "3d38a25264e64bcdaac2c20e6731f808",
       "version_major": 2,
       "version_minor": 0
      },
      "text/plain": [
       "pytorch_model.bin:  67%|######7   | 220M/329M [00:00<?, ?B/s]"
      ]
     },
     "metadata": {},
     "output_type": "display_data"
    },
    {
     "data": {
      "application/vnd.jupyter.widget-view+json": {
       "model_id": "e7b4a10283824164a9f84b0e01dfe6bf",
       "version_major": 2,
       "version_minor": 0
      },
      "text/plain": [
       "tokenizer_config.json:   0%|          | 0.00/294 [00:00<?, ?B/s]"
      ]
     },
     "metadata": {},
     "output_type": "display_data"
    },
    {
     "data": {
      "application/vnd.jupyter.widget-view+json": {
       "model_id": "9a9d6a5961c04701964249a31e913041",
       "version_major": 2,
       "version_minor": 0
      },
      "text/plain": [
       "vocab.json:   0%|          | 0.00/798k [00:00<?, ?B/s]"
      ]
     },
     "metadata": {},
     "output_type": "display_data"
    },
    {
     "data": {
      "application/vnd.jupyter.widget-view+json": {
       "model_id": "4b1c5bfeab6146d488a51c35c657ad93",
       "version_major": 2,
       "version_minor": 0
      },
      "text/plain": [
       "merges.txt:   0%|          | 0.00/456k [00:00<?, ?B/s]"
      ]
     },
     "metadata": {},
     "output_type": "display_data"
    },
    {
     "data": {
      "application/vnd.jupyter.widget-view+json": {
       "model_id": "c22afead83ca4ff2ae21a1b182124661",
       "version_major": 2,
       "version_minor": 0
      },
      "text/plain": [
       "tokenizer.json:   0%|          | 0.00/1.36M [00:00<?, ?B/s]"
      ]
     },
     "metadata": {},
     "output_type": "display_data"
    },
    {
     "data": {
      "application/vnd.jupyter.widget-view+json": {
       "model_id": "8b8e0bb6d82946c1935c96fd3f66fcf8",
       "version_major": 2,
       "version_minor": 0
      },
      "text/plain": [
       "special_tokens_map.json:   0%|          | 0.00/239 [00:00<?, ?B/s]"
      ]
     },
     "metadata": {},
     "output_type": "display_data"
    },
    {
     "name": "stderr",
     "output_type": "stream",
     "text": [
      "Hardware accelerator e.g. GPU is available in the environment, but no `device` argument is passed to the `Pipeline` object. Model will be on CPU.\n"
     ]
    },
    {
     "name": "stdout",
     "output_type": "stream",
     "text": [
      "Oración (ES): Estoy tan feliz que no puedo dejar de sonreír.\n",
      "Oración (EN): I'm so happy I can't stop smiling.\n",
      "Emoción: joy - Confianza: 0.97\n",
      "--------------------------------------------------\n",
      "Oración (ES): No puedo soportar más esta situación, estoy enojado.\n",
      "Oración (EN): I can't stand this situation anymore, I'm angry.\n",
      "Emoción: anger - Confianza: 0.99\n",
      "--------------------------------------------------\n",
      "Oración (ES): Me siento triste y vacío por dentro.\n",
      "Oración (EN): I feel sad and empty inside.\n",
      "Emoción: sadness - Confianza: 0.99\n",
      "--------------------------------------------------\n",
      "Oración (ES): ¡Esta es la mejor fiesta de mi vida!\n",
      "Oración (EN): This is the best party of my life!\n",
      "Emoción: joy - Confianza: 0.92\n",
      "--------------------------------------------------\n"
     ]
    }
   ],
   "source": [
    "# Forzar PyTorch como backend\n",
    "import os\n",
    "os.environ[\"TRANSFORMERS_NO_TF_WARNING\"] = \"1\"\n",
    "\n",
    "# Importar librerías necesarias\n",
    "from deep_translator import GoogleTranslator\n",
    "from transformers import pipeline\n",
    "\n",
    "# Traductor de español a inglés\n",
    "translator = GoogleTranslator(source='es', target='en')\n",
    "\n",
    "# Pipeline de emociones (modelo en inglés)\n",
    "emotion_pipeline = pipeline(\"text-classification\", model=\"j-hartmann/emotion-english-distilroberta-base\")\n",
    "\n",
    "# Oraciones en español\n",
    "oraciones_es = [\n",
    "    \"Estoy tan feliz que no puedo dejar de sonreír.\",\n",
    "    \"No puedo soportar más esta situación, estoy enojado.\",\n",
    "    \"Me siento triste y vacío por dentro.\",\n",
    "    \"¡Esta es la mejor fiesta de mi vida!\"\n",
    "]\n",
    "\n",
    "# Traducir al inglés\n",
    "oraciones_en = [translator.translate(oracion) for oracion in oraciones_es]\n",
    "\n",
    "# Clasificar emociones\n",
    "resultados = emotion_pipeline(oraciones_en)\n",
    "\n",
    "# Mostrar resultados con traducción\n",
    "for oracion_es, oracion_en, resultado in zip(oraciones_es, oraciones_en, resultados):\n",
    "    print(f\"Oración (ES): {oracion_es}\")\n",
    "    print(f\"Oración (EN): {oracion_en}\")\n",
    "    print(f\"Emoción: {resultado['label']} - Confianza: {resultado['score']:.2f}\")\n",
    "    print(\"-\" * 50)\n"
   ]
  },
  {
   "cell_type": "code",
   "execution_count": null,
   "id": "244c34cf6ff4acef",
   "metadata": {},
   "outputs": [],
   "source": []
  }
 ],
 "metadata": {
  "kernelspec": {
   "display_name": "Python 3 (ipykernel)",
   "language": "python",
   "name": "python3"
  },
  "language_info": {
   "codemirror_mode": {
    "name": "ipython",
    "version": 3
   },
   "file_extension": ".py",
   "mimetype": "text/x-python",
   "name": "python",
   "nbconvert_exporter": "python",
   "pygments_lexer": "ipython3",
   "version": "3.9.20"
  }
 },
 "nbformat": 4,
 "nbformat_minor": 5
}
